{
 "cells": [
  {
   "cell_type": "code",
   "execution_count": 1,
   "id": "bf21f3a1",
   "metadata": {},
   "outputs": [],
   "source": [
    "import torch\n",
    "import pandas as pd\n",
    "from sklearn.preprocessing import StandardScaler"
   ]
  },
  {
   "cell_type": "code",
   "execution_count": 2,
   "id": "b7414e47",
   "metadata": {},
   "outputs": [],
   "source": [
    "# Load the dataset\n",
    "data = pd.read_csv(\"Mall_Customers.csv\")"
   ]
  },
  {
   "cell_type": "code",
   "execution_count": 3,
   "id": "16003fba",
   "metadata": {},
   "outputs": [],
   "source": [
    "# Select relevant features for clustering (Annual Income and Spending Score)\n",
    "X = data.iloc[:, [3, 4]].values"
   ]
  },
  {
   "cell_type": "code",
   "execution_count": 4,
   "id": "c887cead",
   "metadata": {},
   "outputs": [],
   "source": [
    "# Normalize the data\n",
    "scaler = StandardScaler()\n",
    "X_scaled = scaler.fit_transform(X)"
   ]
  },
  {
   "cell_type": "code",
   "execution_count": 5,
   "id": "70068400",
   "metadata": {},
   "outputs": [],
   "source": [
    "X_tensor = torch.tensor(X_scaled)"
   ]
  },
  {
   "cell_type": "code",
   "execution_count": 6,
   "id": "6fc71963",
   "metadata": {},
   "outputs": [],
   "source": [
    "# Number of clusters\n",
    "k = 5"
   ]
  },
  {
   "cell_type": "code",
   "execution_count": 7,
   "id": "9e8178a5",
   "metadata": {},
   "outputs": [],
   "source": [
    "# Initialize centroids randomly\n",
    "centroids = X_tensor[torch.randperm(X_tensor.size(0))[:k]]"
   ]
  },
  {
   "cell_type": "code",
   "execution_count": 8,
   "id": "3fec3013",
   "metadata": {},
   "outputs": [],
   "source": [
    "# Number of iterations\n",
    "max_iters = 100\n",
    "for _ in range(max_iters):\n",
    "    # Calculate distances from centroids to each point\n",
    "    distances = torch.cdist(X_tensor, centroids)\n",
    "\n",
    "    # Assign each point to the cluster with the nearest centroid\n",
    "    cluster_assignments = torch.argmin(distances, dim=1)\n",
    "\n",
    "    # Update centroids by taking the mean of all points assigned to each cluster\n",
    "    new_centroids = torch.stack([X_tensor[cluster_assignments == i].mean(0) for i in range(k)])\n",
    "\n",
    "    # Check for convergence\n",
    "    if torch.all(new_centroids == centroids):\n",
    "        break\n",
    "\n",
    "    centroids = new_centroids"
   ]
  },
  {
   "cell_type": "code",
   "execution_count": 9,
   "id": "845fb638",
   "metadata": {},
   "outputs": [
    {
     "name": "stdout",
     "output_type": "stream",
     "text": [
      "Cluster Centers:\n",
      "tensor([[-1.3295,  1.1322],\n",
      "        [-0.2009, -0.0265],\n",
      "        [ 1.0550, -1.2844],\n",
      "        [ 0.9916,  1.2395],\n",
      "        [-1.3075, -1.1370]], dtype=torch.float64)\n",
      "\n",
      "Count of points in each cluster:\n",
      "Cluster\n",
      "1    81\n",
      "3    39\n",
      "2    35\n",
      "4    23\n",
      "0    22\n",
      "Name: count, dtype: int64\n"
     ]
    }
   ],
   "source": [
    "# Final cluster assignments\n",
    "cluster_assignments = cluster_assignments.numpy()\n",
    "\n",
    "# Add cluster assignments to the original dataframe\n",
    "data['Cluster'] = cluster_assignments\n",
    "\n",
    "# Print the cluster centers\n",
    "print(\"Cluster Centers:\")\n",
    "print(centroids)\n",
    "\n",
    "# Print the count of points in each cluster\n",
    "print(\"\\nCount of points in each cluster:\")\n",
    "print(data['Cluster'].value_counts())"
   ]
  },
  {
   "cell_type": "code",
   "execution_count": 10,
   "id": "321fbb58",
   "metadata": {},
   "outputs": [
    {
     "name": "stdout",
     "output_type": "stream",
     "text": [
      "Error (Within-Cluster Sum of Squares): 65.56840815571682\n"
     ]
    }
   ],
   "source": [
    "# Calculate the sum of squared distances\n",
    "def calculate_error(X_tensor, cluster_assignments, centroids):\n",
    "    distances = torch.cdist(X_tensor, centroids)\n",
    "    cluster_distances = torch.min(distances, dim=1)[0]\n",
    "    error = torch.sum(cluster_distances ** 2)\n",
    "    return error\n",
    "\n",
    "# After updating centroids:\n",
    "error = calculate_error(X_tensor, cluster_assignments, centroids)\n",
    "print(\"Error (Within-Cluster Sum of Squares):\", error.item())\n"
   ]
  },
  {
   "cell_type": "code",
   "execution_count": null,
   "id": "792dea76",
   "metadata": {},
   "outputs": [],
   "source": []
  },
  {
   "cell_type": "code",
   "execution_count": null,
   "id": "a6c70928",
   "metadata": {},
   "outputs": [],
   "source": []
  },
  {
   "cell_type": "code",
   "execution_count": null,
   "id": "12334783",
   "metadata": {},
   "outputs": [],
   "source": []
  }
 ],
 "metadata": {
  "kernelspec": {
   "display_name": "Python 3 (ipykernel)",
   "language": "python",
   "name": "python3"
  },
  "language_info": {
   "codemirror_mode": {
    "name": "ipython",
    "version": 3
   },
   "file_extension": ".py",
   "mimetype": "text/x-python",
   "name": "python",
   "nbconvert_exporter": "python",
   "pygments_lexer": "ipython3",
   "version": "3.11.3"
  }
 },
 "nbformat": 4,
 "nbformat_minor": 5
}
